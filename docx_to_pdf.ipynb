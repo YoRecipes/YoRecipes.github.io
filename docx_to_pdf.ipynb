{
 "cells": [
  {
   "cell_type": "markdown",
   "metadata": {},
   "source": [
    "Using the library \"docx2pdf\" (https://github.com/AlJohri/docx2pdf)\n",
    "\n",
    "`pip install docx2pdf`"
   ]
  },
  {
   "cell_type": "code",
   "execution_count": 1,
   "metadata": {},
   "outputs": [
    {
     "name": "stderr",
     "output_type": "stream",
     "text": [
      "c:\\__APP__\\Python311\\Lib\\site-packages\\tqdm\\auto.py:21: TqdmWarning: IProgress not found. Please update jupyter and ipywidgets. See https://ipywidgets.readthedocs.io/en/stable/user_install.html\n",
      "  from .autonotebook import tqdm as notebook_tqdm\n"
     ]
    }
   ],
   "source": [
    "import glob\n",
    "import os\n",
    "from docx2pdf import convert"
   ]
  },
  {
   "cell_type": "markdown",
   "metadata": {},
   "source": [
    "Convert example:\n",
    "```python\n",
    "in_file = \"starters/Canneles Pesto Parmesan.docx\"\n",
    "out_file = \"starters/Canneles Pesto Parmesan.pdf\"\n",
    "\n",
    "convert(in_file, out_file)\n",
    "```"
   ]
  },
  {
   "cell_type": "code",
   "execution_count": 2,
   "metadata": {},
   "outputs": [
    {
     "name": "stdout",
     "output_type": "stream",
     "text": [
      "basiques\\Crème Patissière.docx\n",
      "basiques\\Mayonnaise.docx\n",
      "basiques\\Pâte Brisée.docx\n",
      "basiques\\Pâte de Pistache.docx\n",
      "basiques\\Pâte Sablée.docx\n",
      "basiques\\Pâte à Crêpes.docx\n",
      "basiques\\Pâte à Gaufres.docx\n",
      "basiques\\Pâte à Pancakes.docx\n",
      "basiques\\Pâte à Pizza.docx\n",
      "basiques\\Sauce Béchamel.docx\n",
      "desserts\\Banana Bread.docx\n",
      "desserts\\Biscuits a la Pistache.docx\n",
      "desserts\\Brownie.docx\n",
      "desserts\\Bûche de Noël de Mémée.docx\n",
      "desserts\\Cake au Citron.docx\n",
      "desserts\\Cannelés.docx\n",
      "desserts\\Charlotte aux fraises.docx\n",
      "desserts\\Charlotte poire chocolat.docx\n",
      "desserts\\Chocolate Chips and Blueberries Muffins.docx\n",
      "desserts\\Chouquettes.docx\n",
      "desserts\\Clafoutis.docx\n",
      "desserts\\Compote de Pommes.docx\n",
      "desserts\\Cookies Classiques.docx\n",
      "desserts\\Cookies Pistache Chocolat.docx\n",
      "desserts\\Crumble aux Pommes.docx\n",
      "desserts\\Financiers aux Amandes.docx\n",
      "desserts\\Flans aux Œufs.docx\n",
      "desserts\\Gateau Ananas.docx\n",
      "desserts\\Gateau au yaourt.docx\n",
      "desserts\\Gateau chocolat Mamie Lisette.docx\n",
      "desserts\\Merveille framboises pistache.docx\n",
      "desserts\\Moelleux au Chocolat de Mamie PO.docx\n",
      "desserts\\Pavlova Fruits Rouges.docx\n",
      "desserts\\Petits pains au lait.docx\n",
      "desserts\\Scones.docx\n",
      "desserts\\Tarte au Citron Meringuée.docx\n",
      "desserts\\Tarte Tatin.docx\n",
      "desserts\\Tartes aux fruits.docx\n",
      "desserts\\Tiramisu aux Spéculos de Vinciane.docx\n",
      "desserts\\Tiramisu Classique.docx\n",
      "desserts\\Tuiles aux Amandes.docx\n",
      "desserts\\_Bagels.docx\n",
      "desserts\\_Galette frangipane.docx\n",
      "desserts\\_Glace à la pistache.docx\n",
      "desserts\\_Gâteau léger cerise et pistache.docx\n",
      "desserts\\_Gâteau pistache framboises.docx\n",
      "desserts\\_Mousse au citron.docx\n",
      "glaces\\Crème Glacée Banane.docx\n",
      "glaces\\Crème glacée vanille.docx\n",
      "glaces\\Glace Stracciatella.docx\n",
      "glaces\\Sorbet au Chocolat.docx\n",
      "glaces\\Sorbet Fraise Rhubarbe.docx\n",
      "glaces\\Sorbet Poivrons Rouges et Tuiles Parmesan.docx\n",
      "glaces\\Sorbet à la Fraise.docx\n",
      "glaces\\_Glace à la pistache.docx\n",
      "main_courses\\Blanquette exotique.docx\n",
      "main_courses\\Boeuf Bourguignon.docx\n",
      "main_courses\\Cabillaud et sa Sauce Mamie PO.docx\n",
      "main_courses\\Carottes Braisées.docx\n",
      "main_courses\\Chili Con Carne.docx\n",
      "main_courses\\Crumble à la courgette.docx\n",
      "main_courses\\Epinards.docx\n",
      "main_courses\\Filet mignon au curry.docx\n",
      "main_courses\\Gratin de Chou-Fleur.docx\n",
      "main_courses\\Gratin de Courge.docx\n",
      "main_courses\\Hachi Parmentier.docx\n",
      "main_courses\\Lasagnes Bolognaise.docx\n",
      "main_courses\\Lentilles Saucisse.docx\n",
      "main_courses\\Marinade pour de l’échine de porc.docx\n",
      "main_courses\\Muqueca de Peixe.docx\n",
      "main_courses\\Osso Bucco de veau.docx\n",
      "main_courses\\Pommes de Terre.docx\n",
      "main_courses\\Quiche Lorraine.docx\n",
      "main_courses\\Ratatouille.docx\n",
      "main_courses\\Risotto Champignons.docx\n",
      "main_courses\\Riz.docx\n",
      "main_courses\\Saumon aux Poivrons.docx\n",
      "main_courses\\Saumon à la Provençale.docx\n",
      "main_courses\\Semoule.docx\n",
      "main_courses\\Taboulé Libanais.docx\n",
      "main_courses\\Tacos de Marie.docx\n",
      "main_courses\\Tajine d'Agneau.docx\n",
      "main_courses\\_Saumon à la Provençale.docx\n",
      "main_courses\\_Terrine de ricotta aux poivrons marinés.docx\n",
      "starters\\Canneles Pesto Parmesan.docx\n",
      "starters\\Garlic&Cheese Drop biscuits.docx\n",
      "starters\\Moelleux tomates séchées.docx\n",
      "starters\\Mousse Betterave.docx\n",
      "starters\\Pao de Queijo.docx\n",
      "starters\\Salade Concombre Pomme Avocat.docx\n",
      "starters\\Salade de Concombres.docx\n",
      "starters\\Salade de Tomates.docx\n",
      "starters\\Soupe au Pistou.docx\n",
      "starters\\Soupe de Légume.docx\n",
      "starters\\Tapenade Olives Noires.docx\n",
      "starters\\Velouté de Courge d'Automne.docx\n",
      "starters\\Velouté de Courgette.docx\n",
      "starters\\_Garbure.docx\n",
      "starters\\_Recette choux crème Asperge.docx\n",
      "starters\\Œufs Mimosa.docx\n"
     ]
    }
   ],
   "source": [
    "for folder in glob.glob('*/'):\n",
    "    for file in glob.glob(folder+'*.docx'):\n",
    "        print(file)\n",
    "        # convert(file)\n"
   ]
  }
 ],
 "metadata": {
  "kernelspec": {
   "display_name": "Python 3",
   "language": "python",
   "name": "python3"
  },
  "language_info": {
   "codemirror_mode": {
    "name": "ipython",
    "version": 3
   },
   "file_extension": ".py",
   "mimetype": "text/x-python",
   "name": "python",
   "nbconvert_exporter": "python",
   "pygments_lexer": "ipython3",
   "version": "3.11.4"
  }
 },
 "nbformat": 4,
 "nbformat_minor": 2
}
