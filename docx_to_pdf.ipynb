{
 "cells": [
  {
   "cell_type": "markdown",
   "metadata": {},
   "source": [
    "Using the library \"docx2pdf\" (https://github.com/AlJohri/docx2pdf)\n",
    "\n",
    "`pip install docx2pdf`"
   ]
  },
  {
   "cell_type": "code",
   "execution_count": null,
   "metadata": {},
   "outputs": [],
   "source": [
    "import glob\n",
    "import os\n",
    "from docx2pdf import convert"
   ]
  },
  {
   "cell_type": "markdown",
   "metadata": {},
   "source": [
    "Convert example:\n",
    "```python\n",
    "in_file = \"DOCX/starters/Canneles Pesto Parmesan.docx\"\n",
    "out_file = \"PDF/starters/Canneles Pesto Parmesan.pdf\"\n",
    "\n",
    "convert(in_file, out_file)\n",
    "```"
   ]
  },
  {
   "cell_type": "code",
   "execution_count": null,
   "metadata": {},
   "outputs": [],
   "source": [
    "# convert(\"DOCX/desserts/Banana Bread.docx\", \"PDF/desserts/Banana Bread.pdf\")"
   ]
  },
  {
   "cell_type": "code",
   "execution_count": null,
   "metadata": {},
   "outputs": [],
   "source": [
    "for folder in glob.glob('DOCX\\\\*\\\\'):\n",
    "    sub_folder = folder.split('\\\\')[1]\n",
    "    for file in glob.glob(folder+'*.docx'):\n",
    "        if '\\\\_' in file:\n",
    "            continue\n",
    "        new_file = file.replace('.docx', '.pdf').replace('DOCX', 'PDF')\n",
    "        print(file)\n",
    "        print(new_file)\n",
    "        # convert(file, new_file)\n"
   ]
  },
  {
   "cell_type": "markdown",
   "metadata": {},
   "source": [
    "---"
   ]
  },
  {
   "cell_type": "markdown",
   "metadata": {},
   "source": [
    "Using the library \"pdf2image\" (https://pypi.org/project/pdf2image/)\n",
    "\n",
    "`pip install pdf2image`"
   ]
  },
  {
   "cell_type": "code",
   "execution_count": null,
   "metadata": {},
   "outputs": [],
   "source": [
    "from pdf2image import convert_from_path"
   ]
  },
  {
   "cell_type": "markdown",
   "metadata": {},
   "source": [
    "Convert example:\n",
    "```python\n",
    "images = convert_from_path('PDF/desserts/Banana Bread.pdf')\n",
    "# images is a list of PIL images (one per page)\n",
    "for i,image in enumerate(images):\n",
    "    image.save(f'PNG/desserts/Banana Bread{i}.pdf')\n",
    "```"
   ]
  },
  {
   "cell_type": "code",
   "execution_count": null,
   "metadata": {},
   "outputs": [],
   "source": [
    "images = convert_from_path('PDF/desserts/Banana Bread.pdf')\n",
    "images[0].save('PNG/desserts/Banana Bread.png', 'PNG')"
   ]
  },
  {
   "cell_type": "code",
   "execution_count": null,
   "metadata": {},
   "outputs": [],
   "source": [
    "for folder in glob.glob('PDF\\\\*\\\\'):\n",
    "    sub_folder = folder.split('\\\\')[1]\n",
    "    for file in glob.glob(folder+'*.pdf'):\n",
    "        if '\\\\_' in file:\n",
    "            continue\n",
    "        new_file = file.replace('.pdf', '.png').replace('PDF', 'PNG')\n",
    "        print(file)\n",
    "        print(new_file)\n",
    "        # images = convert_from_path(file)\n",
    "        # images[0].save(new_file, 'PNG')\n"
   ]
  }
 ],
 "metadata": {
  "kernelspec": {
   "display_name": "Python 3",
   "language": "python",
   "name": "python3"
  },
  "language_info": {
   "codemirror_mode": {
    "name": "ipython",
    "version": 3
   },
   "file_extension": ".py",
   "mimetype": "text/x-python",
   "name": "python",
   "nbconvert_exporter": "python",
   "pygments_lexer": "ipython3",
   "version": "3.11.4"
  }
 },
 "nbformat": 4,
 "nbformat_minor": 2
}
