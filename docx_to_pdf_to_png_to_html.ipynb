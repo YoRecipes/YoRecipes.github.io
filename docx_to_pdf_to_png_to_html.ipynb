{
 "cells": [
  {
   "cell_type": "code",
   "execution_count": 1,
   "metadata": {},
   "outputs": [],
   "source": [
    "import glob\n",
    "import os\n",
    "import time"
   ]
  },
  {
   "cell_type": "code",
   "execution_count": 2,
   "metadata": {},
   "outputs": [
    {
     "name": "stdout",
     "output_type": "stream",
     "text": [
      "1719766382\n"
     ]
    }
   ],
   "source": [
    "last_modified_timestamp = 0\n",
    "f = open('last_update_timestamp.txt', 'r')\n",
    "last_modified_timestamp = int(f.read().strip())\n",
    "f.close()\n",
    "print(last_modified_timestamp)"
   ]
  },
  {
   "cell_type": "markdown",
   "metadata": {},
   "source": [
    "Using the library \"docx2pdf\" (https://github.com/AlJohri/docx2pdf)\n",
    "\n",
    "`pip install docx2pdf`"
   ]
  },
  {
   "cell_type": "code",
   "execution_count": 3,
   "metadata": {},
   "outputs": [
    {
     "name": "stderr",
     "output_type": "stream",
     "text": [
      "c:\\__APP__\\Python311\\Lib\\site-packages\\tqdm\\auto.py:21: TqdmWarning: IProgress not found. Please update jupyter and ipywidgets. See https://ipywidgets.readthedocs.io/en/stable/user_install.html\n",
      "  from .autonotebook import tqdm as notebook_tqdm\n"
     ]
    }
   ],
   "source": [
    "\n",
    "from docx2pdf import convert"
   ]
  },
  {
   "cell_type": "markdown",
   "metadata": {},
   "source": [
    "Convert example:\n",
    "```python\n",
    "in_file = \"DOCX/starters/Canneles Pesto Parmesan.docx\"\n",
    "out_file = \"PDF/starters/Canneles Pesto Parmesan.pdf\"\n",
    "\n",
    "convert(in_file, out_file)\n",
    "```"
   ]
  },
  {
   "cell_type": "code",
   "execution_count": 4,
   "metadata": {},
   "outputs": [],
   "source": [
    "# convert(\"DOCX/desserts/Banana Bread.docx\", \"PDF/desserts/Banana Bread.pdf\")"
   ]
  },
  {
   "cell_type": "code",
   "execution_count": 5,
   "metadata": {},
   "outputs": [],
   "source": [
    "\n",
    "for folder in glob.glob('DOCX\\\\*\\\\'):\n",
    "    sub_folder = folder.split('\\\\')[1]\n",
    "    for file in glob.glob(folder+'*.docx'):\n",
    "        if '\\\\_' in file:\n",
    "            continue\n",
    "        new_file = file.replace('.docx', '.pdf').replace('DOCX', 'PDF')\n",
    "        modified_time = os.path.getmtime(file)\n",
    "        if modified_time > last_modified_timestamp:\n",
    "            print(file)\n",
    "            print(new_file)\n",
    "            convert(file, new_file)"
   ]
  },
  {
   "cell_type": "code",
   "execution_count": 6,
   "metadata": {},
   "outputs": [
    {
     "name": "stdout",
     "output_type": "stream",
     "text": [
      "\n"
     ]
    }
   ],
   "source": [
    "print()"
   ]
  },
  {
   "cell_type": "markdown",
   "metadata": {},
   "source": [
    "---"
   ]
  },
  {
   "cell_type": "markdown",
   "metadata": {},
   "source": [
    "Using the library \"pdf2image\" (https://pypi.org/project/pdf2image/)\n",
    "\n",
    "`pip install pdf2image`"
   ]
  },
  {
   "cell_type": "code",
   "execution_count": 7,
   "metadata": {},
   "outputs": [],
   "source": [
    "from pdf2image import convert_from_path"
   ]
  },
  {
   "cell_type": "markdown",
   "metadata": {},
   "source": [
    "Convert example:\n",
    "```python\n",
    "images = convert_from_path('PDF/desserts/Banana Bread.pdf')\n",
    "# images is a list of PIL images (one per page)\n",
    "for i,image in enumerate(images):\n",
    "    image.save(f'PNG/desserts/Banana Bread{i}.pdf')\n",
    "```"
   ]
  },
  {
   "cell_type": "code",
   "execution_count": 8,
   "metadata": {},
   "outputs": [],
   "source": [
    "# images = convert_from_path('PDF/desserts/Banana Bread.pdf')\n",
    "# images[0].save('PNG/desserts/Banana Bread.png', 'PNG')"
   ]
  },
  {
   "cell_type": "code",
   "execution_count": 9,
   "metadata": {},
   "outputs": [],
   "source": [
    "for folder in glob.glob('PDF\\\\*\\\\'):\n",
    "    sub_folder = folder.split('\\\\')[1]\n",
    "    for file in glob.glob(folder+'*.pdf'):\n",
    "        if '\\\\_' in file:\n",
    "            continue\n",
    "        new_file = file.replace('.pdf', '.png').replace('PDF', 'PNG')\n",
    "        modified_time = os.path.getmtime(file)\n",
    "        if modified_time > last_modified_timestamp:\n",
    "            print(file)\n",
    "            print(new_file)\n",
    "            images = convert_from_path(file)\n",
    "            images[0].save(new_file, 'PNG')\n"
   ]
  },
  {
   "cell_type": "code",
   "execution_count": 10,
   "metadata": {},
   "outputs": [
    {
     "name": "stdout",
     "output_type": "stream",
     "text": [
      "\n"
     ]
    }
   ],
   "source": [
    "print()"
   ]
  },
  {
   "cell_type": "markdown",
   "metadata": {},
   "source": [
    "---"
   ]
  },
  {
   "cell_type": "code",
   "execution_count": 11,
   "metadata": {},
   "outputs": [],
   "source": [
    "for folder in glob.glob('PNG\\\\*\\\\'):\n",
    "    sub_folder = folder.split('\\\\')[1]\n",
    "    for file in glob.glob(folder+'*.png'):\n",
    "        if '\\\\_' in file:\n",
    "            continue\n",
    "        recipe_name = file.split('\\\\')[-1].replace('.png', '')\n",
    "        new_file = file.replace('.png', '.html').replace('PNG', 'HTML')\n",
    "        modified_time = os.path.getmtime(file)\n",
    "        if modified_time > last_modified_timestamp:\n",
    "            print(file)\n",
    "            print(new_file)\n",
    "            file_png = file.replace('\\\\', '/')\n",
    "            file_pdf = file.replace('PNG', 'PDF').replace('.png', '.pdf').replace('\\\\', '/')\n",
    "            file_docx = file.replace('PNG', 'DOCX').replace('.png', '.docx').replace('\\\\', '/')\n",
    "            txt = '''<!DOCTYPE html>\n",
    "<html lang=\"en\">\n",
    "\n",
    "<head>\n",
    "    <meta charset=\"UTF-8\">\n",
    "    <meta name=\"viewport\" content=\"width=device-width, initial-scale=1.0\">\n",
    "    <title>Yo! Recipes!</title>\n",
    "    <style>\n",
    "        @font-face {\n",
    "            font-family: monotypeCorsiva;\n",
    "            src: url(../../monotype-corsiva.ttf);\n",
    "        }\n",
    "\n",
    "        #back-button {\n",
    "            display: inline-block;\n",
    "            padding: 0.25em 0.5em;\n",
    "            margin: 0.1em;\n",
    "            background-color: #ccc;\n",
    "            border-radius: 0.5em;\n",
    "            cursor: pointer;\n",
    "            user-select: none;\n",
    "            font-weight: bold;\n",
    "            font-size: 1.1em;\n",
    "            text-decoration: none;\n",
    "            user-select: none;\n",
    "        }\n",
    "\n",
    "        body {\n",
    "            display: flex;\n",
    "            align-items: center;\n",
    "            flex-direction: column;\n",
    "            margin: 0;\n",
    "            padding: 0;\n",
    "            font-family: monotypeCorsiva;\n",
    "        }\n",
    "\n",
    "        h1 {\n",
    "            text-align: center;\n",
    "            color: #333;\n",
    "        }\n",
    "\n",
    "        .icon {\n",
    "            width: 40px;\n",
    "            height: 40px;\n",
    "            margin: 0 5px;\n",
    "        }\n",
    "\n",
    "        .recipe-image {\n",
    "            width: 99%;\n",
    "            max-width: 750px;\n",
    "            margin: 1em 10px;\n",
    "            box-shadow: #666 0 0 10px;\n",
    "        }\n",
    "    </style>\n",
    "</head>\n",
    "\n",
    "<body>\n",
    "    <!-- <a href=\"../../index.html\" id=\"back-button\">← Back  ↺</a> -->\n",
    "    <a href=\"../../index.html\" id=\"back-button\">Back to List</a>\n",
    "    <h1>Yo! Recipes!</h1>\n",
    "    <div>\n",
    "        <a href=\"../../''' + file_png + '''\"><img src=\"../../logo_png.svg\" alt=\"png file\" class=\"icon\"></a>\n",
    "        <a href=\"../../''' + file_pdf + '''\"><img src=\"../../logo_pdf.svg\" alt=\"pdf file\" class=\"icon\"></a>\n",
    "        <a href=\"../../''' + file_docx+ '''\"><img src=\"../../logo_docx.svg\" alt=\"docx file\" class=\"icon\"></a>\n",
    "    </div>\n",
    "    <img src=\"../../''' + file.replace('\\\\', '/') + '''\" alt=\"''' + recipe_name + ''' Recipe\" class=\"recipe-image\">\n",
    "\n",
    "</body>\n",
    "\n",
    "\n",
    "</html>'''\n",
    "            with open(new_file, 'w') as f:\n",
    "                f.write(txt)"
   ]
  },
  {
   "cell_type": "markdown",
   "metadata": {},
   "source": [
    "---"
   ]
  },
  {
   "cell_type": "code",
   "execution_count": 12,
   "metadata": {},
   "outputs": [],
   "source": [
    "f = open('last_update_timestamp.txt', 'w')\n",
    "f.write(str(int(time.time())))\n",
    "f.close()"
   ]
  },
  {
   "cell_type": "markdown",
   "metadata": {},
   "source": [
    "---"
   ]
  },
  {
   "cell_type": "code",
   "execution_count": 13,
   "metadata": {},
   "outputs": [],
   "source": [
    "from unidecode import unidecode\n",
    "\n",
    "file_top = open('index_top.html', 'r')\n",
    "top_html = file_top.read()\n",
    "file_top.close()\n",
    "\n",
    "file_bottom = open('index_bottom.html', 'r')\n",
    "bottom_html = file_bottom.read()\n",
    "file_bottom.close()\n",
    "\n",
    "file_build = open('index.html', 'w')\n",
    "file_build.write(top_html + '\\n')\n",
    "\n",
    "lines = []\n",
    "for folder in glob.glob('HTML\\\\*\\\\'):\n",
    "    folder_class = folder.replace('_', '-').replace('\\\\', '').replace('HTML', '')\n",
    "    for file in glob.glob(folder+'*.html'):\n",
    "        name = file.split('\\\\')[2].split('.')[0]\n",
    "        redirect = file.replace(\"\\\\\", \"/\")\n",
    "        if name[0] == '_':\n",
    "            continue\n",
    "        lines.append( (unidecode(name), f'        <li class=\"recipe {folder_class}\"><a href=\"{redirect}\">{name}</a></li>\\n') )\n",
    "\n",
    "lines.sort()\n",
    "for line in lines:\n",
    "    file_build.write(line[1])\n",
    "\n",
    "file_build.write(bottom_html)\n",
    "file_build.close()\n"
   ]
  }
 ],
 "metadata": {
  "kernelspec": {
   "display_name": "Python 3",
   "language": "python",
   "name": "python3"
  },
  "language_info": {
   "codemirror_mode": {
    "name": "ipython",
    "version": 3
   },
   "file_extension": ".py",
   "mimetype": "text/x-python",
   "name": "python",
   "nbconvert_exporter": "python",
   "pygments_lexer": "ipython3",
   "version": "3.11.4"
  }
 },
 "nbformat": 4,
 "nbformat_minor": 2
}
